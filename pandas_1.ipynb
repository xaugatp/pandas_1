{
 "cells": [
  {
   "cell_type": "code",
   "execution_count": 1,
   "metadata": {},
   "outputs": [],
   "source": [
    "#Q1. Create a Pandas Series that contains the following data: 4, 8, 15, 16, 23, and 42. Then, print the series."
   ]
  },
  {
   "cell_type": "code",
   "execution_count": 6,
   "metadata": {},
   "outputs": [
    {
     "name": "stdout",
     "output_type": "stream",
     "text": [
      "0     4\n",
      "1     8\n",
      "2    15\n",
      "3    16\n",
      "4    23\n",
      "5    42\n",
      "dtype: int64\n"
     ]
    },
    {
     "data": {
      "text/plain": [
       "pandas.core.series.Series"
      ]
     },
     "execution_count": 6,
     "metadata": {},
     "output_type": "execute_result"
    }
   ],
   "source": [
    "#importing necessary library\n",
    "import pandas as pd\n",
    "list = [4,8,15,16,23,42]\n",
    "ser = pd.Series(list)\n",
    "print(ser)\n",
    "type(ser)\n"
   ]
  },
  {
   "cell_type": "code",
   "execution_count": 7,
   "metadata": {},
   "outputs": [],
   "source": [
    "#Q2. Create a variable of list type containing 10 elements in it, and apply pandas.Series function on the variable print it.\n"
   ]
  },
  {
   "cell_type": "code",
   "execution_count": 10,
   "metadata": {},
   "outputs": [
    {
     "data": {
      "text/plain": [
       "0        apple\n",
       "1          air\n",
       "2       banana\n",
       "3       monkey\n",
       "4       school\n",
       "5          pen\n",
       "6     keyboard\n",
       "7            1\n",
       "8            2\n",
       "9            3\n",
       "10           4\n",
       "dtype: object"
      ]
     },
     "execution_count": 10,
     "metadata": {},
     "output_type": "execute_result"
    }
   ],
   "source": [
    "my_list = [ 'apple', 'air', 'banana', 'monkey', 'school', 'pen', 'keyboard', 1,2,3,4]\n",
    "pd.Series(my_list)"
   ]
  },
  {
   "cell_type": "code",
   "execution_count": 11,
   "metadata": {},
   "outputs": [
    {
     "data": {
      "text/plain": [
       "'  \\nQ3. Create a Pandas DataFrame that contains the following data:\\nName\\nAlice\\nBob\\nClaire\\n\\nAge\\n25\\n30\\n27\\n\\nGender\\nFemale\\nMale\\nFemale\\n\\n\\nThen, print the DataFrame.\\n\\n'"
      ]
     },
     "execution_count": 11,
     "metadata": {},
     "output_type": "execute_result"
    }
   ],
   "source": [
    "'''  \n",
    "Q3. Create a Pandas DataFrame that contains the following data:\n",
    "Name\n",
    "Alice\n",
    "Bob\n",
    "Claire\n",
    "\n",
    "Age\n",
    "25\n",
    "30\n",
    "27\n",
    "\n",
    "Gender\n",
    "Female\n",
    "Male\n",
    "Female\n",
    "\n",
    "\n",
    "Then, print the DataFrame.\n",
    "\n",
    "'''"
   ]
  },
  {
   "cell_type": "code",
   "execution_count": 12,
   "metadata": {},
   "outputs": [
    {
     "name": "stdout",
     "output_type": "stream",
     "text": [
      "     Name  Age  Gender\n",
      "0   Alice   25  Female\n",
      "1     Bob   30    Male\n",
      "2  Claire   27  Female\n"
     ]
    }
   ],
   "source": [
    "data = {\n",
    "    'Name': ['Alice', 'Bob', 'Claire'],\n",
    "    'Age': [25, 30, 27],\n",
    "    'Gender': ['Female', 'Male', 'Female']\n",
    "}\n",
    "\n",
    "df = pd.DataFrame(data)\n",
    "print(df)"
   ]
  },
  {
   "cell_type": "code",
   "execution_count": 13,
   "metadata": {},
   "outputs": [],
   "source": [
    "#Q4. What is ‘DataFrame’ in pandas and how is it different from pandas.series? Explain with an example."
   ]
  },
  {
   "cell_type": "code",
   "execution_count": 14,
   "metadata": {},
   "outputs": [
    {
     "data": {
      "text/plain": [
       "\" \\n\\nIn pandas, a **DataFrame** is a two-dimensional, size-mutable, and potentially heterogeneous tabular data structure with labeled axes (rows and columns). It is similar to a spreadsheet or SQL table, where you have rows and columns to organize and manipulate data. The DataFrame is a fundamental data structure in pandas and is used for various data manipulation and analysis tasks.\\n\\nOn the other hand, a **Series** is a one-dimensional labeled array capable of holding any data type. It is like a single column or a single row of data in a DataFrame. A DataFrame can be thought of as a collection of Series objects, where each Series represents a column of the DataFrame.\\n\\nHere's a brief explanation of the differences with an example:\\n\\n**DataFrame:**\\n- Two-dimensional structure with rows and columns.\\n- Columns can have different data types.\\n- Suitable for tabular data and working with multiple variables.\\n- Can be created using dictionaries, lists, arrays, or other DataFrames.\\n\\nExample:\\n\\n```python\\nimport pandas as pd\\n\\ndata = {\\n    'Name': ['Alice', 'Bob', 'Claire'],\\n    'Age': [25, 30, 27],\\n    'Gender': ['Female', 'Male', 'Female']\\n}\\n\\ndf = pd.DataFrame(data)\\nprint(df)\\n```\\n\\nOutput:\\n\\n```\\n    Name  Age  Gender\\n0  Alice   25  Female\\n1    Bob   30    Male\\n2 Claire   27  Female\\n```\\n\\n**Series:**\\n- One-dimensional structure, representing a single column or row.\\n- Homogeneous data type within a Series.\\n- Useful for working with a single variable or extracting a single column from a DataFrame.\\n- Can be created from lists, arrays, or other Series.\\n\\nExample:\\n\\n```python\\nimport pandas as pd\\n\\nages = pd.Series([25, 30, 27], name='Age')\\nprint(ages)\\n```\\n\\nOutput:\\n\\n```\\n0    25\\n1    30\\n2    27\\nName: Age, dtype: int64\\n```\\n\""
      ]
     },
     "execution_count": 14,
     "metadata": {},
     "output_type": "execute_result"
    }
   ],
   "source": [
    "''' \n",
    "\n",
    "In pandas, a **DataFrame** is a two-dimensional, size-mutable, and potentially heterogeneous tabular data structure with labeled axes (rows and columns). It is similar to a spreadsheet or SQL table, where you have rows and columns to organize and manipulate data. The DataFrame is a fundamental data structure in pandas and is used for various data manipulation and analysis tasks.\n",
    "\n",
    "On the other hand, a **Series** is a one-dimensional labeled array capable of holding any data type. It is like a single column or a single row of data in a DataFrame. A DataFrame can be thought of as a collection of Series objects, where each Series represents a column of the DataFrame.\n",
    "\n",
    "Here's a brief explanation of the differences with an example:\n",
    "\n",
    "**DataFrame:**\n",
    "- Two-dimensional structure with rows and columns.\n",
    "- Columns can have different data types.\n",
    "- Suitable for tabular data and working with multiple variables.\n",
    "- Can be created using dictionaries, lists, arrays, or other DataFrames.\n",
    "\n",
    "Example:\n",
    "\n",
    "```python\n",
    "import pandas as pd\n",
    "\n",
    "data = {\n",
    "    'Name': ['Alice', 'Bob', 'Claire'],\n",
    "    'Age': [25, 30, 27],\n",
    "    'Gender': ['Female', 'Male', 'Female']\n",
    "}\n",
    "\n",
    "df = pd.DataFrame(data)\n",
    "print(df)\n",
    "```\n",
    "\n",
    "Output:\n",
    "\n",
    "```\n",
    "    Name  Age  Gender\n",
    "0  Alice   25  Female\n",
    "1    Bob   30    Male\n",
    "2 Claire   27  Female\n",
    "```\n",
    "\n",
    "**Series:**\n",
    "- One-dimensional structure, representing a single column or row.\n",
    "- Homogeneous data type within a Series.\n",
    "- Useful for working with a single variable or extracting a single column from a DataFrame.\n",
    "- Can be created from lists, arrays, or other Series.\n",
    "\n",
    "Example:\n",
    "\n",
    "```python\n",
    "import pandas as pd\n",
    "\n",
    "ages = pd.Series([25, 30, 27], name='Age')\n",
    "print(ages)\n",
    "```\n",
    "\n",
    "Output:\n",
    "\n",
    "```\n",
    "0    25\n",
    "1    30\n",
    "2    27\n",
    "Name: Age, dtype: int64\n",
    "```\n",
    "'''"
   ]
  },
  {
   "cell_type": "code",
   "execution_count": 15,
   "metadata": {},
   "outputs": [],
   "source": [
    "#Q5. What are some common functions you can use to manipulate data in a Pandas DataFrame? Can\n",
    "#you give an example of when you might use one of these functions?"
   ]
  },
  {
   "cell_type": "code",
   "execution_count": 16,
   "metadata": {},
   "outputs": [
    {
     "data": {
      "text/plain": [
       "\" \\nPandas provides a variety of functions to manipulate and analyze data in a DataFrame. Here are some common functions:\\n\\nhead() and tail():\\n\\nhead(n) returns the first n rows of the DataFrame.\\ntail(n) returns the last n rows of the DataFrame.\\npython\\nCopy code\\nimport pandas as pd\\n\\ndata = {'Name': ['Alice', 'Bob', 'Claire'],\\n        'Age': [25, 30, 27],\\n        'Gender': ['Female', 'Male', 'Female']}\\n\\ndf = pd.DataFrame(data)\\n\\nprint(df.head(2))  # Display the first 2 rows\\ndescribe():\\n\\nProvides descriptive statistics (count, mean, std, min, 25%, 50%, 75%, max) for each column.\\npython\\nCopy code\\nprint(df.describe())\\ninfo():\\n\\nDisplays a concise summary of the DataFrame, including data types and missing values.\\npython\\nCopy code\\nprint(df.info())\\nsort_values():\\n\\nSorts the DataFrame by specified columns.\\npython\\nCopy code\\ndf_sorted = df.sort_values(by='Age', ascending=False)\\nprint(df_sorted)\\n\\n\\n\""
      ]
     },
     "execution_count": 16,
     "metadata": {},
     "output_type": "execute_result"
    }
   ],
   "source": [
    "''' \n",
    "Pandas provides a variety of functions to manipulate and analyze data in a DataFrame. Here are some common functions:\n",
    "\n",
    "head() and tail():\n",
    "\n",
    "head(n) returns the first n rows of the DataFrame.\n",
    "tail(n) returns the last n rows of the DataFrame.\n",
    "python\n",
    "Copy code\n",
    "import pandas as pd\n",
    "\n",
    "data = {'Name': ['Alice', 'Bob', 'Claire'],\n",
    "        'Age': [25, 30, 27],\n",
    "        'Gender': ['Female', 'Male', 'Female']}\n",
    "\n",
    "df = pd.DataFrame(data)\n",
    "\n",
    "print(df.head(2))  # Display the first 2 rows\n",
    "describe():\n",
    "\n",
    "Provides descriptive statistics (count, mean, std, min, 25%, 50%, 75%, max) for each column.\n",
    "python\n",
    "Copy code\n",
    "print(df.describe())\n",
    "info():\n",
    "\n",
    "Displays a concise summary of the DataFrame, including data types and missing values.\n",
    "python\n",
    "Copy code\n",
    "print(df.info())\n",
    "sort_values():\n",
    "\n",
    "Sorts the DataFrame by specified columns.\n",
    "python\n",
    "Copy code\n",
    "df_sorted = df.sort_values(by='Age', ascending=False)\n",
    "print(df_sorted)\n",
    "\n",
    "\n",
    "'''"
   ]
  },
  {
   "cell_type": "code",
   "execution_count": 18,
   "metadata": {},
   "outputs": [],
   "source": [
    "#Q6. Which of the following is mutable in nature Series, DataFrame, Panel?"
   ]
  },
  {
   "cell_type": "code",
   "execution_count": 19,
   "metadata": {},
   "outputs": [
    {
     "data": {
      "text/plain": [
       "\"  \\n\\nIn pandas, both Series and DataFrame are mutable.\\n\\nSeries: You can modify the values of a Series by assigning new values to specific indices.\\n\\n\\nimport pandas as pd\\n\\nseries_data = pd.Series([1, 2, 3, 4])\\nprint(series_data)\\n\\n# Modify a value\\nseries_data[2] = 10\\nprint(series_data)\\nDataFrame: You can modify the values of a DataFrame by adding, deleting, or updating rows and columns.\\n\\n\\nimport pandas as pd\\n\\ndata = {'Name': ['Alice', 'Bob', 'Claire'],\\n        'Age': [25, 30, 27],\\n        'Gender': ['Female', 'Male', 'Female']}\\n\\ndf = pd.DataFrame(data)\\nprint(df)\\n\\n# Modify a value\\ndf.at[1, 'Age'] = 31\\nprint(df)\\n\\n# Add a new column\\ndf['City'] = ['New York', 'San Francisco', 'Los Angeles']\\nprint(df)\\n\\n# Delete a column\\ndel df['Gender']\\nprint(df)\\n\\n\""
      ]
     },
     "execution_count": 19,
     "metadata": {},
     "output_type": "execute_result"
    }
   ],
   "source": [
    "'''  \n",
    "\n",
    "In pandas, both Series and DataFrame are mutable.\n",
    "\n",
    "Series: You can modify the values of a Series by assigning new values to specific indices.\n",
    "\n",
    "\n",
    "import pandas as pd\n",
    "\n",
    "series_data = pd.Series([1, 2, 3, 4])\n",
    "print(series_data)\n",
    "\n",
    "# Modify a value\n",
    "series_data[2] = 10\n",
    "print(series_data)\n",
    "DataFrame: You can modify the values of a DataFrame by adding, deleting, or updating rows and columns.\n",
    "\n",
    "\n",
    "import pandas as pd\n",
    "\n",
    "data = {'Name': ['Alice', 'Bob', 'Claire'],\n",
    "        'Age': [25, 30, 27],\n",
    "        'Gender': ['Female', 'Male', 'Female']}\n",
    "\n",
    "df = pd.DataFrame(data)\n",
    "print(df)\n",
    "\n",
    "# Modify a value\n",
    "df.at[1, 'Age'] = 31\n",
    "print(df)\n",
    "\n",
    "# Add a new column\n",
    "df['City'] = ['New York', 'San Francisco', 'Los Angeles']\n",
    "print(df)\n",
    "\n",
    "# Delete a column\n",
    "del df['Gender']\n",
    "print(df)\n",
    "\n",
    "'''"
   ]
  },
  {
   "cell_type": "code",
   "execution_count": 20,
   "metadata": {},
   "outputs": [],
   "source": [
    "#Q7. Create a DataFrame using multiple Series. Explain with an example."
   ]
  },
  {
   "cell_type": "code",
   "execution_count": 22,
   "metadata": {},
   "outputs": [
    {
     "name": "stdout",
     "output_type": "stream",
     "text": [
      "       Name  Age Gender\n",
      "0       Ram   24   Male\n",
      "1  Sudanshu   34   Male\n",
      "2     Krish   36   Male\n"
     ]
    }
   ],
   "source": [
    "name_Series = pd.Series(['Ram', 'Sudanshu', 'Krish'], name = 'Name')\n",
    "age_Series = pd.Series([24,34,36], name ='Age')\n",
    "gender_Series = pd.Series(['Male', 'Male', 'Male'], name=\"Gender\")\n",
    "\n",
    "data = {\n",
    "    'Name':name_Series,\n",
    "    'Age':age_Series,\n",
    "    'Gender':gender_Series\n",
    "}\n",
    "df = pd.DataFrame(data)\n",
    "print(df)\n"
   ]
  },
  {
   "cell_type": "code",
   "execution_count": null,
   "metadata": {},
   "outputs": [],
   "source": []
  }
 ],
 "metadata": {
  "kernelspec": {
   "display_name": "Python 3",
   "language": "python",
   "name": "python3"
  },
  "language_info": {
   "codemirror_mode": {
    "name": "ipython",
    "version": 3
   },
   "file_extension": ".py",
   "mimetype": "text/x-python",
   "name": "python",
   "nbconvert_exporter": "python",
   "pygments_lexer": "ipython3",
   "version": "3.11.7"
  }
 },
 "nbformat": 4,
 "nbformat_minor": 2
}
